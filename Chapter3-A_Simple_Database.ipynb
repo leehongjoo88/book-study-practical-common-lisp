{
 "cells": [
  {
   "cell_type": "markdown",
   "metadata": {},
   "source": [
    "# A Simple Database\n",
    "\n",
    "- Goal: A simple database of MP3s.\n",
    "- 3 kinds of operators: _functions_ _macros_ _special operators_\n",
    "\n",
    "## CDs and Records\n",
    "\n",
    "- Each record contain the title and artist, a rating, ripped flag.\n",
    "- A record will be represented with a property list.\n",
    "- Use a _keyword_ symbol which starts with a colo (:).\n"
   ]
  },
  {
   "cell_type": "code",
   "execution_count": 1,
   "metadata": {},
   "outputs": [
    {
     "data": {
      "text/plain": [
       "(:A 1 :B 2 :C 3)"
      ]
     },
     "execution_count": 1,
     "metadata": {},
     "output_type": "execute_result"
    }
   ],
   "source": [
    "(list :a 1 :b 2 :c 3)"
   ]
  },
  {
   "cell_type": "code",
   "execution_count": 2,
   "metadata": {},
   "outputs": [
    {
     "data": {
      "text/plain": [
       "1"
      ]
     },
     "execution_count": 2,
     "metadata": {},
     "output_type": "execute_result"
    }
   ],
   "source": [
    "(getf (list :a 1 :b 2 :c 3) :a)"
   ]
  },
  {
   "cell_type": "markdown",
   "metadata": {},
   "source": [
    "Write a function `make-cd` that will tkae four arguments and return a plist representing that CD."
   ]
  },
  {
   "cell_type": "code",
   "execution_count": 3,
   "metadata": {},
   "outputs": [
    {
     "data": {
      "text/plain": [
       "MAKE-CD"
      ]
     },
     "execution_count": 3,
     "metadata": {},
     "output_type": "execute_result"
    }
   ],
   "source": [
    "(defun make-cd (title artist rating ripped)\n",
    "    (list :title title :artist artist :rating rating :ripped ripped))"
   ]
  },
  {
   "cell_type": "code",
   "execution_count": 4,
   "metadata": {},
   "outputs": [
    {
     "data": {
      "text/plain": [
       "(:TITLE \"The White Album\" :ARTIST \"The Beatles\" :RATING 0.0 :RIPPED NIL)"
      ]
     },
     "execution_count": 4,
     "metadata": {},
     "output_type": "execute_result"
    }
   ],
   "source": [
    "(make-cd \"The White Album\" \"The Beatles\" 0.0 ())"
   ]
  },
  {
   "cell_type": "markdown",
   "metadata": {},
   "source": [
    "## Filing CDs\n",
    "\n",
    "- Use a list for a database implementation.\n",
    "- Use a global variable \\*db\\*.\n",
    "- asterisks (\\*) in the name \\*db\\* are a Lisp naming convention for global variables."
   ]
  },
  {
   "cell_type": "code",
   "execution_count": 5,
   "metadata": {},
   "outputs": [
    {
     "data": {
      "text/plain": [
       "*DB*"
      ]
     },
     "execution_count": 5,
     "metadata": {},
     "output_type": "execute_result"
    }
   ],
   "source": [
    "(defvar *db* nil)"
   ]
  },
  {
   "cell_type": "code",
   "execution_count": 6,
   "metadata": {},
   "outputs": [
    {
     "data": {
      "text/plain": [
       "ADD-RECORD"
      ]
     },
     "execution_count": 6,
     "metadata": {},
     "output_type": "execute_result"
    }
   ],
   "source": [
    "(defun add-record (cd)\n",
    "    (push cd *db*))"
   ]
  },
  {
   "cell_type": "markdown",
   "metadata": {},
   "source": [
    "`push` is the macro to add items."
   ]
  },
  {
   "cell_type": "code",
   "execution_count": 7,
   "metadata": {},
   "outputs": [
    {
     "data": {
      "text/plain": [
       "((:TITLE \"Roses\" :ARTIST \"Kathy Mattea\" :RATING 7 :RIPPED T))"
      ]
     },
     "execution_count": 7,
     "metadata": {},
     "output_type": "execute_result"
    }
   ],
   "source": [
    "(add-record (make-cd \"Roses\" \"Kathy Mattea\" 7 t))"
   ]
  },
  {
   "cell_type": "code",
   "execution_count": 8,
   "metadata": {},
   "outputs": [
    {
     "data": {
      "text/plain": [
       "((:TITLE \"Home\" :ARTIST \"Dixie Chicks\" :RATING 9 :RIPPED T)\n",
       " (:TITLE \"Fly\" :ARTIST \"Dixie Chicks\" :RATING 8 :RIPPED T)\n",
       " (:TITLE \"Roses\" :ARTIST \"Kathy Mattea\" :RATING 7 :RIPPED T))"
      ]
     },
     "execution_count": 8,
     "metadata": {},
     "output_type": "execute_result"
    }
   ],
   "source": [
    "(add-record (make-cd \"Fly\" \"Dixie Chicks\" 8 t))\n",
    "(add-record (make-cd \"Home\" \"Dixie Chicks\" 9 t))"
   ]
  },
  {
   "cell_type": "markdown",
   "metadata": {},
   "source": [
    "## Looking at the Database Contents\n",
    "\n",
    "Typing \\*db\\* shows all the records, which is not pretty. So define a function that dumps db in human readable format."
   ]
  },
  {
   "cell_type": "code",
   "execution_count": 9,
   "metadata": {},
   "outputs": [
    {
     "data": {
      "text/plain": [
       "DUMP-DB"
      ]
     },
     "execution_count": 9,
     "metadata": {},
     "output_type": "execute_result"
    }
   ],
   "source": [
    "(defun dump-db ()\n",
    "    (dolist (cd *db*)\n",
    "        (format t \"~{~a:~10t~a~%~}~%\" cd)))"
   ]
  },
  {
   "cell_type": "code",
   "execution_count": 10,
   "metadata": {},
   "outputs": [
    {
     "name": "stdout",
     "output_type": "stream",
     "text": [
      "TITLE:    Home\n",
      "ARTIST:   Dixie Chicks\n",
      "RATING:   9\n",
      "RIPPED:   T\n",
      "\n",
      "TITLE:    Fly\n",
      "ARTIST:   Dixie Chicks\n",
      "RATING:   8\n",
      "RIPPED:   T\n",
      "\n",
      "TITLE:    Roses\n",
      "ARTIST:   Kathy Mattea\n",
      "RATING:   7\n",
      "RIPPED:   T\n",
      "\n"
     ]
    },
    {
     "data": {
      "text/plain": [
       "NIL"
      ]
     },
     "execution_count": 10,
     "metadata": {},
     "output_type": "execute_result"
    }
   ],
   "source": [
    "(dump-db)"
   ]
  },
  {
   "cell_type": "markdown",
   "metadata": {},
   "source": [
    "`FORMAT` will be handled in Chapter 18.\n",
    "\n",
    "```lisp\n",
    "(format t \"~{~a:~10t~a~%~}~%\" cd)\n",
    "```\n",
    "\n",
    "- First argument: The stream where it sends its output.\n",
    "    - t is shorthand for the \\*standard-output\\*.\n",
    "- Second argument: A format string.\n",
    "    - ~a: _aesthetic_ directive; consume one argument and output it in a human-readable form.\n",
    "    - ~t: tablulating. The ~10t tells `FORMAT` to emit enough spaces to move to the tenth column before processing the next ~a.\n",
    "    - ~{: consume every elements in list and apply format between ~{ and ~}\n",
    "    - ~%: new line"
   ]
  },
  {
   "cell_type": "code",
   "execution_count": 17,
   "metadata": {},
   "outputs": [
    {
     "name": "stdout",
     "output_type": "stream",
     "text": [
      "ARTIST:   Dixie Chicks"
     ]
    },
    {
     "data": {
      "text/plain": [
       "NIL"
      ]
     },
     "execution_count": 17,
     "metadata": {},
     "output_type": "execute_result"
    }
   ],
   "source": [
    ";(format t \"~a\" \"Dixie Chicks\")\n",
    ";(format t \"~a\" :title)\n",
    "(format t \"~a:~10t~a\" :artist \"Dixie Chicks\")"
   ]
  },
  {
   "cell_type": "code",
   "execution_count": 19,
   "metadata": {},
   "outputs": [
    {
     "name": "stdout",
     "output_type": "stream",
     "text": [
      "ARTIST:   Dixie Chicks\n",
      "RATING:   9\n"
     ]
    },
    {
     "data": {
      "text/plain": [
       "NIL"
      ]
     },
     "execution_count": 19,
     "metadata": {},
     "output_type": "execute_result"
    }
   ],
   "source": [
    "(format t \"~{~a:~10t~a~%~}\" '(:artist \"Dixie Chicks\" :rating 9))"
   ]
  },
  {
   "cell_type": "code",
   "execution_count": 23,
   "metadata": {},
   "outputs": [
    {
     "name": "stderr",
     "output_type": "stream",
     "text": [
      "REDEFINITION-WITH-DEFUN: \n",
      "  redefining CL-JUPYTER-USER::DUMP-DB in DEFUN\n"
     ]
    },
    {
     "data": {
      "text/plain": [
       "DUMP-DB"
      ]
     },
     "execution_count": 23,
     "metadata": {},
     "output_type": "execute_result"
    }
   ],
   "source": [
    "(defun dump-db ()\n",
    "    \"one-liner dump-db\"\n",
    "    (format t \"~{~{~a:~10t~a~%~}~%~}\" *db*))"
   ]
  },
  {
   "cell_type": "code",
   "execution_count": 24,
   "metadata": {},
   "outputs": [
    {
     "name": "stdout",
     "output_type": "stream",
     "text": [
      "TITLE:    Home\n",
      "ARTIST:   Dixie Chicks\n",
      "RATING:   9\n",
      "RIPPED:   T\n",
      "\n",
      "TITLE:    Fly\n",
      "ARTIST:   Dixie Chicks\n",
      "RATING:   8\n",
      "RIPPED:   T\n",
      "\n",
      "TITLE:    Roses\n",
      "ARTIST:   Kathy Mattea\n",
      "RATING:   7\n",
      "RIPPED:   T\n",
      "\n"
     ]
    },
    {
     "data": {
      "text/plain": [
       "NIL"
      ]
     },
     "execution_count": 24,
     "metadata": {},
     "output_type": "execute_result"
    }
   ],
   "source": [
    "(dump-db)"
   ]
  },
  {
   "cell_type": "markdown",
   "metadata": {},
   "source": [
    "## Improving the User Interaction\n",
    "\n",
    "Prompt the user for information about a set of CDs. Right away I need some way to prompt the user for a piece of information and read it."
   ]
  },
  {
   "cell_type": "code",
   "execution_count": 25,
   "metadata": {},
   "outputs": [
    {
     "data": {
      "text/plain": [
       "PROMPT-READ"
      ]
     },
     "execution_count": 25,
     "metadata": {},
     "output_type": "execute_result"
    }
   ],
   "source": [
    "(defun prompt-read (prompt)\n",
    "    (format *query-io* \"~a: \" prompt)\n",
    "    (force-output *query-io*)\n",
    "    (read-line *query-io*))"
   ]
  },
  {
   "cell_type": "code",
   "execution_count": 29,
   "metadata": {},
   "outputs": [
    {
     "name": "stderr",
     "output_type": "stream",
     "text": [
      "REDEFINITION-WITH-DEFUN: \n",
      "  redefining CL-JUPYTER-USER::PROMPT-FOR-CD in DEFUN\n"
     ]
    },
    {
     "data": {
      "text/plain": [
       "PROMPT-FOR-CD"
      ]
     },
     "execution_count": 29,
     "metadata": {},
     "output_type": "execute_result"
    }
   ],
   "source": [
    "(defun prompt-for-cd ()\n",
    "    (make-cd\n",
    "     (prompt-read \"Title\")\n",
    "     (prompt-read \"Artist\")\n",
    "     (or (parse-integer (prompt-read \"Rating\") :junk-allowed t) 0)\n",
    "     (prompt-read \"Ripped [y/n]\")))"
   ]
  },
  {
   "cell_type": "code",
   "execution_count": 30,
   "metadata": {},
   "outputs": [
    {
     "name": "stderr",
     "output_type": "stream",
     "text": [
      "REDEFINITION-WITH-DEFUN: \n",
      "  redefining CL-JUPYTER-USER::ADD-CDS in DEFUN\n"
     ]
    },
    {
     "data": {
      "text/plain": [
       "ADD-CDS"
      ]
     },
     "execution_count": 30,
     "metadata": {},
     "output_type": "execute_result"
    }
   ],
   "source": [
    "(defun add-cds ()\n",
    "    (loop (add-record (prompt-for-cd))\n",
    "          (if (not (y-or-n-p \"Another? [y/n]: \"))\n",
    "              (return))))"
   ]
  },
  {
   "cell_type": "code",
   "execution_count": 31,
   "metadata": {},
   "outputs": [
    {
     "name": "stderr",
     "output_type": "stream",
     "text": [
      "END-OF-FILE: \n",
      "  #<END-OF-FILE {100295DBD3}>\n"
     ]
    },
    {
     "data": {
      "text/plain": [
       "NIL"
      ]
     },
     "execution_count": 31,
     "metadata": {},
     "output_type": "execute_result"
    }
   ],
   "source": [
    "(add-cds)"
   ]
  },
  {
   "cell_type": "code",
   "execution_count": null,
   "metadata": {},
   "outputs": [],
   "source": []
  }
 ],
 "metadata": {
  "kernelspec": {
   "display_name": "SBCL Lisp",
   "language": "lisp",
   "name": "lisp"
  },
  "language_info": {
   "codemirror_mode": "text/x-common-lisp",
   "mimetype": "text/x-common-lisp",
   "name": "common-lisp",
   "pygments_lexer": "common-lisp",
   "version": "X3J13"
  }
 },
 "nbformat": 4,
 "nbformat_minor": 2
}
