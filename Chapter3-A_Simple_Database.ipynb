{
 "cells": [
  {
   "cell_type": "markdown",
   "metadata": {},
   "source": [
    "# A Simple Database\n",
    "\n",
    "- Goal: A simple database of MP3s.\n",
    "- 3 kinds of operators: _functions_ _macros_ _special operators_\n",
    "\n",
    "## CDs and Records\n",
    "\n",
    "- Each record contain the title and artist, a rating, ripped flag.\n",
    "- A record will be represented with a property list.\n",
    "- Use a _keyword_ symbol which starts with a colo (:).\n"
   ]
  },
  {
   "cell_type": "code",
   "execution_count": 1,
   "metadata": {},
   "outputs": [
    {
     "data": {
      "text/plain": [
       "(:A 1 :B 2 :C 3)"
      ]
     },
     "execution_count": 1,
     "metadata": {},
     "output_type": "execute_result"
    }
   ],
   "source": [
    "(list :a 1 :b 2 :c 3)"
   ]
  },
  {
   "cell_type": "code",
   "execution_count": 3,
   "metadata": {},
   "outputs": [
    {
     "data": {
      "text/plain": [
       "1"
      ]
     },
     "execution_count": 3,
     "metadata": {},
     "output_type": "execute_result"
    }
   ],
   "source": [
    "(getf (list :a 1 :b 2 :c 3) :a)"
   ]
  },
  {
   "cell_type": "markdown",
   "metadata": {},
   "source": [
    "Write a function `make-cd` that will tkae four arguments and return a plist representing that CD."
   ]
  },
  {
   "cell_type": "code",
   "execution_count": 4,
   "metadata": {},
   "outputs": [
    {
     "data": {
      "text/plain": [
       "MAKE-CD"
      ]
     },
     "execution_count": 4,
     "metadata": {},
     "output_type": "execute_result"
    }
   ],
   "source": [
    "(defun make-cd (title artist rating ripped)\n",
    "    (list :title title :artist artist :rating rating :ripped ripped))"
   ]
  },
  {
   "cell_type": "code",
   "execution_count": 5,
   "metadata": {},
   "outputs": [
    {
     "data": {
      "text/plain": [
       "(:TITLE \"The White Album\" :ARTIST \"The Beatles\" :RATING 0.0 :RIPPED NIL)"
      ]
     },
     "execution_count": 5,
     "metadata": {},
     "output_type": "execute_result"
    }
   ],
   "source": [
    "(make-cd \"The White Album\" \"The Beatles\" 0.0 ())"
   ]
  },
  {
   "cell_type": "markdown",
   "metadata": {},
   "source": [
    "## Filing CDs\n",
    "\n",
    "- Use a list for a database implementation.\n",
    "- Use a global variable \\*db\\*.\n",
    "- asterisks (\\*) in the name \\*db\\* are a Lisp naming convention for global variables."
   ]
  },
  {
   "cell_type": "code",
   "execution_count": 6,
   "metadata": {},
   "outputs": [
    {
     "data": {
      "text/plain": [
       "*DB*"
      ]
     },
     "execution_count": 6,
     "metadata": {},
     "output_type": "execute_result"
    }
   ],
   "source": [
    "(defvar *db* nil)"
   ]
  },
  {
   "cell_type": "code",
   "execution_count": 7,
   "metadata": {},
   "outputs": [
    {
     "data": {
      "text/plain": [
       "ADD-RECORD"
      ]
     },
     "execution_count": 7,
     "metadata": {},
     "output_type": "execute_result"
    }
   ],
   "source": [
    "(defun add-record (cd)\n",
    "    (push cd *db*))"
   ]
  },
  {
   "cell_type": "markdown",
   "metadata": {},
   "source": [
    "`push` is the macro to add items."
   ]
  },
  {
   "cell_type": "code",
   "execution_count": 8,
   "metadata": {},
   "outputs": [
    {
     "data": {
      "text/plain": [
       "((:TITLE \"Roses\" :ARTIST \"Kathy Mattea\" :RATING 7 :RIPPED T))"
      ]
     },
     "execution_count": 8,
     "metadata": {},
     "output_type": "execute_result"
    }
   ],
   "source": [
    "(add-record (make-cd \"Roses\" \"Kathy Mattea\" 7 t))"
   ]
  },
  {
   "cell_type": "code",
   "execution_count": 9,
   "metadata": {},
   "outputs": [
    {
     "data": {
      "text/plain": [
       "((:TITLE \"Home\" :ARTIST \"Dixie Chicks\" :RATING 9 :RIPPED T)\n",
       " (:TITLE \"Fly\" :ARTIST \"Dixie Chicks\" :RATING 8 :RIPPED T)\n",
       " (:TITLE \"Roses\" :ARTIST \"Kathy Mattea\" :RATING 7 :RIPPED T))"
      ]
     },
     "execution_count": 9,
     "metadata": {},
     "output_type": "execute_result"
    }
   ],
   "source": [
    "(add-record (make-cd \"Fly\" \"Dixie Chicks\" 8 t))\n",
    "(add-record (make-cd \"Home\" \"Dixie Chicks\" 9 t))"
   ]
  },
  {
   "cell_type": "markdown",
   "metadata": {},
   "source": [
    "## Looking at the Database Contents\n",
    "\n",
    "Typing \\*db\\* shows all the records, which is not pretty. So define a function that dumps db in human readable format."
   ]
  },
  {
   "cell_type": "code",
   "execution_count": 10,
   "metadata": {},
   "outputs": [
    {
     "data": {
      "text/plain": [
       "DUMP-DB"
      ]
     },
     "execution_count": 10,
     "metadata": {},
     "output_type": "execute_result"
    }
   ],
   "source": [
    "(defun dump-db ()\n",
    "    (dolist (cd *db*)\n",
    "        (format t \"~{~a:~10t~a~%~}~%\" cd)))"
   ]
  },
  {
   "cell_type": "code",
   "execution_count": 11,
   "metadata": {},
   "outputs": [
    {
     "name": "stdout",
     "output_type": "stream",
     "text": [
      "TITLE:    Home\n",
      "ARTIST:   Dixie Chicks\n",
      "RATING:   9\n",
      "RIPPED:   T\n",
      "\n",
      "TITLE:    Fly\n",
      "ARTIST:   Dixie Chicks\n",
      "RATING:   8\n",
      "RIPPED:   T\n",
      "\n",
      "TITLE:    Roses\n",
      "ARTIST:   Kathy Mattea\n",
      "RATING:   7\n",
      "RIPPED:   T\n",
      "\n"
     ]
    },
    {
     "data": {
      "text/plain": [
       "NIL"
      ]
     },
     "execution_count": 11,
     "metadata": {},
     "output_type": "execute_result"
    }
   ],
   "source": [
    "(dump-db)"
   ]
  },
  {
   "cell_type": "markdown",
   "metadata": {},
   "source": []
  }
 ],
 "metadata": {
  "kernelspec": {
   "display_name": "SBCL Lisp",
   "language": "lisp",
   "name": "lisp"
  },
  "language_info": {
   "codemirror_mode": "text/x-common-lisp",
   "mimetype": "text/x-common-lisp",
   "name": "common-lisp",
   "pygments_lexer": "common-lisp",
   "version": "X3J13"
  }
 },
 "nbformat": 4,
 "nbformat_minor": 2
}
